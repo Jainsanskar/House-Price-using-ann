{
 "cells": [
  {
   "cell_type": "code",
   "execution_count": 1,
   "id": "3afe302a",
   "metadata": {},
   "outputs": [],
   "source": [
    "import numpy as np\n",
    "import pandas as pd\n",
    "import matplotlib.pyplot as plt\n",
    "import seaborn as sns\n",
    "import warnings\n",
    "warnings.filterwarnings(action = 'ignore')"
   ]
  },
  {
   "cell_type": "code",
   "execution_count": 2,
   "id": "096200ec",
   "metadata": {
    "scrolled": true
   },
   "outputs": [
    {
     "data": {
      "text/html": [
       "<div>\n",
       "<style scoped>\n",
       "    .dataframe tbody tr th:only-of-type {\n",
       "        vertical-align: middle;\n",
       "    }\n",
       "\n",
       "    .dataframe tbody tr th {\n",
       "        vertical-align: top;\n",
       "    }\n",
       "\n",
       "    .dataframe thead th {\n",
       "        text-align: right;\n",
       "    }\n",
       "</style>\n",
       "<table border=\"1\" class=\"dataframe\">\n",
       "  <thead>\n",
       "    <tr style=\"text-align: right;\">\n",
       "      <th></th>\n",
       "      <th>No of Bedrooms</th>\n",
       "      <th>No of Bathrooms</th>\n",
       "      <th>Lot Area (in Sqft)</th>\n",
       "      <th>No of Floors</th>\n",
       "      <th>No of Times Visited</th>\n",
       "      <th>Overall Grade</th>\n",
       "      <th>Area of the House from Basement (in Sqft)</th>\n",
       "      <th>Basement Area (in Sqft)</th>\n",
       "      <th>Age of House (in Years)</th>\n",
       "      <th>Latitude</th>\n",
       "      <th>...</th>\n",
       "      <th>Zipcode_Group_Zipcode_Group_1</th>\n",
       "      <th>Zipcode_Group_Zipcode_Group_2</th>\n",
       "      <th>Zipcode_Group_Zipcode_Group_3</th>\n",
       "      <th>Zipcode_Group_Zipcode_Group_4</th>\n",
       "      <th>Zipcode_Group_Zipcode_Group_5</th>\n",
       "      <th>Zipcode_Group_Zipcode_Group_6</th>\n",
       "      <th>Zipcode_Group_Zipcode_Group_7</th>\n",
       "      <th>Zipcode_Group_Zipcode_Group_8</th>\n",
       "      <th>Zipcode_Group_Zipcode_Group_9</th>\n",
       "      <th>Sale_Price</th>\n",
       "    </tr>\n",
       "  </thead>\n",
       "  <tbody>\n",
       "    <tr>\n",
       "      <th>0</th>\n",
       "      <td>-0.398724</td>\n",
       "      <td>-1.447497</td>\n",
       "      <td>-0.228368</td>\n",
       "      <td>-0.915389</td>\n",
       "      <td>-0.30579</td>\n",
       "      <td>-0.563993</td>\n",
       "      <td>-0.734765</td>\n",
       "      <td>-0.658697</td>\n",
       "      <td>0.544734</td>\n",
       "      <td>-0.352572</td>\n",
       "      <td>...</td>\n",
       "      <td>-0.350481</td>\n",
       "      <td>-0.482158</td>\n",
       "      <td>-0.419600</td>\n",
       "      <td>-0.479094</td>\n",
       "      <td>-0.214086</td>\n",
       "      <td>-0.287712</td>\n",
       "      <td>-0.112274</td>\n",
       "      <td>-0.16885</td>\n",
       "      <td>-0.048158</td>\n",
       "      <td>221900.0</td>\n",
       "    </tr>\n",
       "    <tr>\n",
       "      <th>1</th>\n",
       "      <td>-0.398724</td>\n",
       "      <td>0.175717</td>\n",
       "      <td>-0.189935</td>\n",
       "      <td>0.936817</td>\n",
       "      <td>-0.30579</td>\n",
       "      <td>-0.563993</td>\n",
       "      <td>0.460954</td>\n",
       "      <td>0.245134</td>\n",
       "      <td>0.680915</td>\n",
       "      <td>1.161649</td>\n",
       "      <td>...</td>\n",
       "      <td>-0.350481</td>\n",
       "      <td>2.074011</td>\n",
       "      <td>-0.419600</td>\n",
       "      <td>-0.479094</td>\n",
       "      <td>-0.214086</td>\n",
       "      <td>-0.287712</td>\n",
       "      <td>-0.112274</td>\n",
       "      <td>-0.16885</td>\n",
       "      <td>-0.048158</td>\n",
       "      <td>538000.0</td>\n",
       "    </tr>\n",
       "    <tr>\n",
       "      <th>2</th>\n",
       "      <td>-1.474115</td>\n",
       "      <td>-1.447497</td>\n",
       "      <td>-0.123352</td>\n",
       "      <td>-0.915389</td>\n",
       "      <td>-0.30579</td>\n",
       "      <td>-1.468566</td>\n",
       "      <td>-1.229961</td>\n",
       "      <td>-0.658697</td>\n",
       "      <td>1.293731</td>\n",
       "      <td>1.283624</td>\n",
       "      <td>...</td>\n",
       "      <td>-0.350481</td>\n",
       "      <td>2.074011</td>\n",
       "      <td>-0.419600</td>\n",
       "      <td>-0.479094</td>\n",
       "      <td>-0.214086</td>\n",
       "      <td>-0.287712</td>\n",
       "      <td>-0.112274</td>\n",
       "      <td>-0.16885</td>\n",
       "      <td>-0.048158</td>\n",
       "      <td>180000.0</td>\n",
       "    </tr>\n",
       "    <tr>\n",
       "      <th>3</th>\n",
       "      <td>0.676667</td>\n",
       "      <td>1.149646</td>\n",
       "      <td>-0.244060</td>\n",
       "      <td>-0.915389</td>\n",
       "      <td>-0.30579</td>\n",
       "      <td>-0.563993</td>\n",
       "      <td>-0.891778</td>\n",
       "      <td>1.397518</td>\n",
       "      <td>0.204281</td>\n",
       "      <td>-0.283284</td>\n",
       "      <td>...</td>\n",
       "      <td>-0.350481</td>\n",
       "      <td>-0.482158</td>\n",
       "      <td>2.383223</td>\n",
       "      <td>-0.479094</td>\n",
       "      <td>-0.214086</td>\n",
       "      <td>-0.287712</td>\n",
       "      <td>-0.112274</td>\n",
       "      <td>-0.16885</td>\n",
       "      <td>-0.048158</td>\n",
       "      <td>604000.0</td>\n",
       "    </tr>\n",
       "    <tr>\n",
       "      <th>4</th>\n",
       "      <td>-0.398724</td>\n",
       "      <td>-0.148926</td>\n",
       "      <td>-0.169704</td>\n",
       "      <td>-0.915389</td>\n",
       "      <td>-0.30579</td>\n",
       "      <td>0.340581</td>\n",
       "      <td>-0.130866</td>\n",
       "      <td>-0.658697</td>\n",
       "      <td>-0.544715</td>\n",
       "      <td>0.409591</td>\n",
       "      <td>...</td>\n",
       "      <td>-0.350481</td>\n",
       "      <td>-0.482158</td>\n",
       "      <td>-0.419600</td>\n",
       "      <td>2.087275</td>\n",
       "      <td>-0.214086</td>\n",
       "      <td>-0.287712</td>\n",
       "      <td>-0.112274</td>\n",
       "      <td>-0.16885</td>\n",
       "      <td>-0.048158</td>\n",
       "      <td>510000.0</td>\n",
       "    </tr>\n",
       "  </tbody>\n",
       "</table>\n",
       "<p>5 rows × 29 columns</p>\n",
       "</div>"
      ],
      "text/plain": [
       "   No of Bedrooms  No of Bathrooms  Lot Area (in Sqft)  No of Floors  \\\n",
       "0       -0.398724        -1.447497           -0.228368     -0.915389   \n",
       "1       -0.398724         0.175717           -0.189935      0.936817   \n",
       "2       -1.474115        -1.447497           -0.123352     -0.915389   \n",
       "3        0.676667         1.149646           -0.244060     -0.915389   \n",
       "4       -0.398724        -0.148926           -0.169704     -0.915389   \n",
       "\n",
       "   No of Times Visited  Overall Grade  \\\n",
       "0             -0.30579      -0.563993   \n",
       "1             -0.30579      -0.563993   \n",
       "2             -0.30579      -1.468566   \n",
       "3             -0.30579      -0.563993   \n",
       "4             -0.30579       0.340581   \n",
       "\n",
       "   Area of the House from Basement (in Sqft)  Basement Area (in Sqft)  \\\n",
       "0                                  -0.734765                -0.658697   \n",
       "1                                   0.460954                 0.245134   \n",
       "2                                  -1.229961                -0.658697   \n",
       "3                                  -0.891778                 1.397518   \n",
       "4                                  -0.130866                -0.658697   \n",
       "\n",
       "   Age of House (in Years)  Latitude  ...  Zipcode_Group_Zipcode_Group_1  \\\n",
       "0                 0.544734 -0.352572  ...                      -0.350481   \n",
       "1                 0.680915  1.161649  ...                      -0.350481   \n",
       "2                 1.293731  1.283624  ...                      -0.350481   \n",
       "3                 0.204281 -0.283284  ...                      -0.350481   \n",
       "4                -0.544715  0.409591  ...                      -0.350481   \n",
       "\n",
       "   Zipcode_Group_Zipcode_Group_2  Zipcode_Group_Zipcode_Group_3  \\\n",
       "0                      -0.482158                      -0.419600   \n",
       "1                       2.074011                      -0.419600   \n",
       "2                       2.074011                      -0.419600   \n",
       "3                      -0.482158                       2.383223   \n",
       "4                      -0.482158                      -0.419600   \n",
       "\n",
       "   Zipcode_Group_Zipcode_Group_4  Zipcode_Group_Zipcode_Group_5  \\\n",
       "0                      -0.479094                      -0.214086   \n",
       "1                      -0.479094                      -0.214086   \n",
       "2                      -0.479094                      -0.214086   \n",
       "3                      -0.479094                      -0.214086   \n",
       "4                       2.087275                      -0.214086   \n",
       "\n",
       "   Zipcode_Group_Zipcode_Group_6  Zipcode_Group_Zipcode_Group_7  \\\n",
       "0                      -0.287712                      -0.112274   \n",
       "1                      -0.287712                      -0.112274   \n",
       "2                      -0.287712                      -0.112274   \n",
       "3                      -0.287712                      -0.112274   \n",
       "4                      -0.287712                      -0.112274   \n",
       "\n",
       "   Zipcode_Group_Zipcode_Group_8  Zipcode_Group_Zipcode_Group_9  Sale_Price  \n",
       "0                       -0.16885                      -0.048158    221900.0  \n",
       "1                       -0.16885                      -0.048158    538000.0  \n",
       "2                       -0.16885                      -0.048158    180000.0  \n",
       "3                       -0.16885                      -0.048158    604000.0  \n",
       "4                       -0.16885                      -0.048158    510000.0  \n",
       "\n",
       "[5 rows x 29 columns]"
      ]
     },
     "execution_count": 2,
     "metadata": {},
     "output_type": "execute_result"
    }
   ],
   "source": [
    "data = pd.read_csv('transformed_house_price2.csv')\n",
    "data=data\n",
    "data.head()"
   ]
  },
  {
   "cell_type": "code",
   "execution_count": 3,
   "id": "72abcf87",
   "metadata": {},
   "outputs": [
    {
     "data": {
      "text/plain": [
       "(21609, 29)"
      ]
     },
     "execution_count": 3,
     "metadata": {},
     "output_type": "execute_result"
    }
   ],
   "source": [
    "data.shape"
   ]
  },
  {
   "cell_type": "code",
   "execution_count": 4,
   "id": "ccd62627",
   "metadata": {},
   "outputs": [],
   "source": [
    "X=data.drop(columns=['Sale_Price'])"
   ]
  },
  {
   "cell_type": "code",
   "execution_count": 5,
   "id": "678e8542",
   "metadata": {},
   "outputs": [],
   "source": [
    "Y=data['Sale_Price']"
   ]
  },
  {
   "cell_type": "code",
   "execution_count": 6,
   "id": "b6d57cca",
   "metadata": {},
   "outputs": [],
   "source": [
    "from sklearn.model_selection import train_test_split\n",
    "x_train_full,x_test,y_train_full,y_test=train_test_split(X,Y,random_state=42,train_size=0.8)\n",
    "x_train,x_valid,y_train,y_valid=train_test_split(x_train_full,y_train_full,random_state=42,train_size=0.875)"
   ]
  },
  {
   "cell_type": "code",
   "execution_count": 7,
   "id": "1171a17c",
   "metadata": {},
   "outputs": [
    {
     "data": {
      "text/plain": [
       "(15126, 28)"
      ]
     },
     "execution_count": 7,
     "metadata": {},
     "output_type": "execute_result"
    }
   ],
   "source": [
    "x_train.shape"
   ]
  },
  {
   "cell_type": "code",
   "execution_count": 8,
   "id": "1dbfbd04",
   "metadata": {},
   "outputs": [],
   "source": [
    "import tensorflow as tf\n",
    "from tensorflow import keras\n",
    "from keras.models import Sequential\n",
    "from keras.layers import Dense, Activation\n",
    "from keras.layers import BatchNormalization\n",
    "\n",
    "model = Sequential()\n",
    "# input layer\n",
    "model.add(Dense(28,activation='relu'))\n",
    "\n",
    "# hidden layers\n",
    "model.add(Dense(28,activation='relu'))\n",
    "model.add(Dense(28,activation='relu'))\n",
    "model.add(Dense(28,activation='relu'))\n",
    "\n",
    "# output layer\n",
    "model.add(Dense(1,activation='relu'))\n",
    "\n",
    "model.compile(loss='mean_squared_logarithmic_error',\n",
    "               optimizer='adam') \n",
    "\n",
    "\n",
    "\n",
    "\n",
    "\n",
    "\n",
    "\n"
   ]
  },
  {
   "cell_type": "code",
   "execution_count": 9,
   "id": "0bf0ce36",
   "metadata": {},
   "outputs": [
    {
     "name": "stdout",
     "output_type": "stream",
     "text": [
      "Epoch 1/450\n",
      "237/237 [==============================] - 2s 3ms/step - loss: 86.5089 - val_loss: 43.9828\n",
      "Epoch 2/450\n",
      "237/237 [==============================] - 1s 2ms/step - loss: 31.3475 - val_loss: 22.2002\n",
      "Epoch 3/450\n",
      "237/237 [==============================] - 1s 2ms/step - loss: 17.1329 - val_loss: 13.0350\n",
      "Epoch 4/450\n",
      "237/237 [==============================] - 1s 3ms/step - loss: 10.4514 - val_loss: 8.2431\n",
      "Epoch 5/450\n",
      "114/237 [=============>................] - ETA: 0s - loss: 7.4274"
     ]
    }
   ],
   "source": [
    "model.fit(x=x_train,y=y_train,\n",
    "          validation_data=(x_valid,y_valid),\n",
    "          batch_size=64,epochs=450)\n"
   ]
  },
  {
   "cell_type": "code",
   "execution_count": null,
   "id": "2a092baf",
   "metadata": {},
   "outputs": [
    {
     "name": "stdout",
     "output_type": "stream",
     "text": [
      "136/136 [==============================] - 1s 3ms/step\n",
      "Variance Regression Score:  0.8768637850281719\n",
      "Mean Squared Error:  7907424924.273623\n",
      "R2 Score:  0.8761064402350516\n"
     ]
    }
   ],
   "source": [
    "# predictions on the test set\n",
    "from sklearn.metrics import explained_variance_score\n",
    "from sklearn import metrics\n",
    "predictions = model.predict(x_test)\n",
    "\n",
    "\n",
    "print('Variance Regression Score: ',explained_variance_score(y_test,predictions))\n",
    "print(\"Mean Squared Error: \",metrics.mean_squared_error(y_test, predictions))\n",
    "print(\"R2 Score: \",metrics.r2_score(y_test,predictions))"
   ]
  },
  {
   "cell_type": "code",
   "execution_count": null,
   "id": "ea95a505",
   "metadata": {},
   "outputs": [
    {
     "name": "stdout",
     "output_type": "stream",
     "text": [
      "136/136 [==============================] - 0s 3ms/step - loss: 0.0299\n"
     ]
    }
   ],
   "source": [
    "mae_test=model.evaluate(x_test,y_test)"
   ]
  },
  {
   "cell_type": "code",
   "execution_count": null,
   "id": "311a082c",
   "metadata": {},
   "outputs": [],
   "source": [
    "\n",
    "x_new=x_test[2:8]\n",
    "\n",
    "\n"
   ]
  },
  {
   "cell_type": "code",
   "execution_count": null,
   "id": "35167563",
   "metadata": {},
   "outputs": [
    {
     "name": "stdout",
     "output_type": "stream",
     "text": [
      "1/1 [==============================] - 0s 24ms/step\n",
      "[[ 237823.94]\n",
      " [ 397812.78]\n",
      " [ 485876.6 ]\n",
      " [ 631756.5 ]\n",
      " [1035496.7 ]\n",
      " [ 728290.8 ]]\n"
     ]
    }
   ],
   "source": [
    "y_pred=model.predict(x_new)\n",
    "print(y_pred)"
   ]
  },
  {
   "cell_type": "code",
   "execution_count": null,
   "id": "e330391e",
   "metadata": {},
   "outputs": [
    {
     "name": "stdout",
     "output_type": "stream",
     "text": [
      "4044      267000.0\n",
      "21267     365000.0\n",
      "10494     397000.0\n",
      "2199      585000.0\n",
      "9213     1100000.0\n",
      "9976      755000.0\n",
      "Name: Sale_Price, dtype: float64\n"
     ]
    }
   ],
   "source": [
    "print(y_test[2:8])"
   ]
  }
 ],
 "metadata": {
  "kernelspec": {
   "display_name": "Python 3 (ipykernel)",
   "language": "python",
   "name": "python3"
  },
  "language_info": {
   "codemirror_mode": {
    "name": "ipython",
    "version": 3
   },
   "file_extension": ".py",
   "mimetype": "text/x-python",
   "name": "python",
   "nbconvert_exporter": "python",
   "pygments_lexer": "ipython3",
   "version": "3.10.8"
  },
  "vscode": {
   "interpreter": {
    "hash": "369f2c481f4da34e4445cda3fffd2e751bd1c4d706f27375911949ba6bb62e1c"
   }
  }
 },
 "nbformat": 4,
 "nbformat_minor": 5
}
